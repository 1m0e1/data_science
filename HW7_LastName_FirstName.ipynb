{
 "cells": [
  {
   "cell_type": "markdown",
   "metadata": {},
   "source": [
    "# Homework 07: The Normal Distribution, The Central Limit Theorem, Confidence Intervals\n",
    "***\n",
    "\n",
    "**Name**: Mohamad Saaty\n",
    "\n",
    "***\n",
    "\n",
    "This assignment is due on Canvas by **6:00PM on Friday October 28**. Your solutions to theoretical questions should be done in Markdown directly below the associated question.  Your solutions to computational questions should include any specified Python code and results as well as written commentary on your conclusions.  Remember that you are encouraged to discuss the problems with your classmates, but **you must write all code and solutions on your own**.\n",
    "\n",
    "**NOTES**: \n",
    "\n",
    "- Any relevant data sets should be available in the Homework 01 assignment write-up on Canvas. To make life easier on the grader if they need to run your code, do not change the relative path names here. Instead, move the files around on your computer.\n",
    "- If you're not familiar with typesetting math directly into Markdown then by all means, do your work on paper first and then typeset it later.  Remember that there is a [reference guide](https://math.meta.stackexchange.com/questions/5020/mathjax-basic-tutorial-and-quick-reference) linked on Canvas on writing math in Markdown. **All** of your written commentary, justifications and mathematical work should be in Markdown.\n",
    "- Because you can technically evaluate notebook cells is a non-linear order, it's a good idea to do $\\color{red}{\\text{Kernel}}$ $\\color{red}\\rightarrow$ $\\color{red}{\\text{Restart & Run All}}$ as a check before submitting your solutions.  That way if we need to run your code you will know that it will work as expected. \n",
    "- It is **bad form** to make your reader interpret numerical output from your code.  If a question asks you to compute some value from the data you should show your code output **AND** $\\color{red}{\\text{write a summary of the results}}$ in Markdown directly below your code. \n",
    "- This probably goes without saying, but... For any question that asks you to calculate something, you **must show all work and justify your answers to receive credit**. Sparse or nonexistent work will receive sparse or nonexistent credit. \n",
    "\n",
    "---"
   ]
  },
  {
   "cell_type": "markdown",
   "metadata": {},
   "source": [
    "For this HW you will want to import a few of the usuals:"
   ]
  },
  {
   "cell_type": "code",
   "execution_count": 2,
   "metadata": {},
   "outputs": [],
   "source": [
    "# Per the standard import pandas as 'pd' and numpy as 'np'\n",
    "import pandas as pd\n",
    "import numpy as np\n",
    "import matplotlib.pylab as plt\n",
    "%matplotlib inline \n",
    "import scipy.stats as stats\n",
    "from scipy.stats import norm"
   ]
  },
  {
   "cell_type": "markdown",
   "metadata": {},
   "source": [
    "# Problem 1\n",
    "***\n",
    "We are going to look at some data from an insurance company that insures teenage drivers. `insurance.csv` is a sample of 1000 males and 1000 females all of whose ages are between 16 and 19 inclusive.\n",
    "\n",
    "This insurance company has decided to use 'sex' as a proxy for deciding how large of a premium to charge for car insurance.\n",
    "\n",
    "Read in the csv file `insurance.csv`.\n",
    "\n",
    "### Part A\n",
    "***(1 point)*** Load the `csv` file into a dataframe and call it `dfInsurance`:"
   ]
  },
  {
   "cell_type": "code",
   "execution_count": 3,
   "metadata": {},
   "outputs": [],
   "source": [
    "# Read 'insurance' into dfInsurance\n",
    "dfInsurance = pd.read_csv(\"insurance.csv\")"
   ]
  },
  {
   "cell_type": "markdown",
   "metadata": {},
   "source": [
    "### Part B\n",
    "***(1 point)*** Take a look at the data."
   ]
  },
  {
   "cell_type": "code",
   "execution_count": 4,
   "metadata": {},
   "outputs": [
    {
     "data": {
      "text/html": [
       "<div>\n",
       "<style scoped>\n",
       "    .dataframe tbody tr th:only-of-type {\n",
       "        vertical-align: middle;\n",
       "    }\n",
       "\n",
       "    .dataframe tbody tr th {\n",
       "        vertical-align: top;\n",
       "    }\n",
       "\n",
       "    .dataframe thead th {\n",
       "        text-align: right;\n",
       "    }\n",
       "</style>\n",
       "<table border=\"1\" class=\"dataframe\">\n",
       "  <thead>\n",
       "    <tr style=\"text-align: right;\">\n",
       "      <th></th>\n",
       "      <th>Sex</th>\n",
       "      <th>miles driven</th>\n",
       "      <th>Age</th>\n",
       "      <th>Citations</th>\n",
       "    </tr>\n",
       "  </thead>\n",
       "  <tbody>\n",
       "    <tr>\n",
       "      <th>0</th>\n",
       "      <td>F</td>\n",
       "      <td>4200.826390</td>\n",
       "      <td>18</td>\n",
       "      <td>0</td>\n",
       "    </tr>\n",
       "    <tr>\n",
       "      <th>1</th>\n",
       "      <td>F</td>\n",
       "      <td>5468.727014</td>\n",
       "      <td>17</td>\n",
       "      <td>0</td>\n",
       "    </tr>\n",
       "    <tr>\n",
       "      <th>2</th>\n",
       "      <td>F</td>\n",
       "      <td>5282.253745</td>\n",
       "      <td>18</td>\n",
       "      <td>0</td>\n",
       "    </tr>\n",
       "    <tr>\n",
       "      <th>3</th>\n",
       "      <td>F</td>\n",
       "      <td>5060.526521</td>\n",
       "      <td>17</td>\n",
       "      <td>0</td>\n",
       "    </tr>\n",
       "    <tr>\n",
       "      <th>4</th>\n",
       "      <td>F</td>\n",
       "      <td>5101.878224</td>\n",
       "      <td>16</td>\n",
       "      <td>2</td>\n",
       "    </tr>\n",
       "    <tr>\n",
       "      <th>...</th>\n",
       "      <td>...</td>\n",
       "      <td>...</td>\n",
       "      <td>...</td>\n",
       "      <td>...</td>\n",
       "    </tr>\n",
       "    <tr>\n",
       "      <th>1995</th>\n",
       "      <td>M</td>\n",
       "      <td>8433.768080</td>\n",
       "      <td>17</td>\n",
       "      <td>1</td>\n",
       "    </tr>\n",
       "    <tr>\n",
       "      <th>1996</th>\n",
       "      <td>M</td>\n",
       "      <td>8047.929523</td>\n",
       "      <td>18</td>\n",
       "      <td>1</td>\n",
       "    </tr>\n",
       "    <tr>\n",
       "      <th>1997</th>\n",
       "      <td>M</td>\n",
       "      <td>7285.647012</td>\n",
       "      <td>18</td>\n",
       "      <td>1</td>\n",
       "    </tr>\n",
       "    <tr>\n",
       "      <th>1998</th>\n",
       "      <td>M</td>\n",
       "      <td>8579.702457</td>\n",
       "      <td>18</td>\n",
       "      <td>0</td>\n",
       "    </tr>\n",
       "    <tr>\n",
       "      <th>1999</th>\n",
       "      <td>M</td>\n",
       "      <td>7868.067827</td>\n",
       "      <td>16</td>\n",
       "      <td>0</td>\n",
       "    </tr>\n",
       "  </tbody>\n",
       "</table>\n",
       "<p>2000 rows × 4 columns</p>\n",
       "</div>"
      ],
      "text/plain": [
       "     Sex  miles driven  Age  Citations\n",
       "0      F   4200.826390   18          0\n",
       "1      F   5468.727014   17          0\n",
       "2      F   5282.253745   18          0\n",
       "3      F   5060.526521   17          0\n",
       "4      F   5101.878224   16          2\n",
       "...   ..           ...  ...        ...\n",
       "1995   M   8433.768080   17          1\n",
       "1996   M   8047.929523   18          1\n",
       "1997   M   7285.647012   18          1\n",
       "1998   M   8579.702457   18          0\n",
       "1999   M   7868.067827   16          0\n",
       "\n",
       "[2000 rows x 4 columns]"
      ]
     },
     "execution_count": 4,
     "metadata": {},
     "output_type": "execute_result"
    }
   ],
   "source": [
    "# Take a look at the data here:\n",
    "dfInsurance"
   ]
  },
  {
   "cell_type": "markdown",
   "metadata": {},
   "source": [
    "### Data Description:\n",
    "\n",
    "This data contains records from a number of teenage drivers. The drivers were observed for 12 months and the number of miles they drove and the number of citations they received were recorded. Citations were for wreckless driving, disobeying traffic laws, speeding, and/or accidents.\n",
    "\n",
    "$\\color{red}{\\text{Sex}}$ - This is the sex of the driver.\n",
    "\n",
    "$\\color{red}{\\text{miles driven}}$ - This is the number of miles driven during the observation period.\n",
    "\n",
    "$\\color{red}{\\text{Age}}$ - This is the age of the driver at the beginning of the observation period.\n",
    "\n",
    "$\\color{red}{\\text{Citations}}$ - This is the number of citations received by the driver.\n"
   ]
  },
  {
   "cell_type": "markdown",
   "metadata": {},
   "source": [
    "### Part C\n",
    "***(2 points)*** Which sex has more overall citations?"
   ]
  },
  {
   "cell_type": "code",
   "execution_count": 5,
   "metadata": {},
   "outputs": [
    {
     "name": "stdout",
     "output_type": "stream",
     "text": [
      "males have more overall citations:  468\n"
     ]
    }
   ],
   "source": [
    "# Code here to print your answer:\n",
    "if (dfInsurance['Citations'].loc[dfInsurance['Sex']==\"M\"].sum() > \n",
    "dfInsurance['Citations'].loc[dfInsurance['Sex']==\"F\"].sum()):\n",
    "    \n",
    "    print(\"males have more overall citations: \",\n",
    "          dfInsurance['Citations'].loc[dfInsurance['Sex']==\"M\"].sum())\n",
    "else:\n",
    "    print(\"females have more overall citations: \",\n",
    "          dfInsurance['Citations'].loc[dfInsurance['Sex']==\"F\"].sum())"
   ]
  },
  {
   "cell_type": "markdown",
   "metadata": {},
   "source": [
    "### Part D\n",
    "***(2 points)*** Find the mean number of citations received by males and the mean number of citations received by females. Who received more citations in the year?\n"
   ]
  },
  {
   "cell_type": "code",
   "execution_count": 6,
   "metadata": {},
   "outputs": [
    {
     "name": "stdout",
     "output_type": "stream",
     "text": [
      "males have more overall citations:  0.468\n"
     ]
    }
   ],
   "source": [
    "#Code your answer here:\n",
    "if (dfInsurance['Citations'].loc[dfInsurance['Sex']==\"M\"].mean() >\n",
    "dfInsurance['Citations'].loc[dfInsurance['Sex']==\"F\"].mean()):\n",
    "    \n",
    "    print(\"males have more overall citations: \",\n",
    "          dfInsurance['Citations'].loc[dfInsurance['Sex']==\"M\"].mean())\n",
    "else:\n",
    "    print(\"females have more overall citations: \",\n",
    "          dfInsurance['Citations'].loc[dfInsurance['Sex']==\"F\"].mean())"
   ]
  },
  {
   "cell_type": "markdown",
   "metadata": {},
   "source": [
    "### Part E\n",
    "***(3 points)*** Estimate the difference in population means (for citations received) by creating a 95% CI for the difference between the sample means for number of citations received by males and females.\n",
    "\n",
    "Recall the equation below from lecture. Perform the proper calculations 'by hand' (i.e. code without a canned function).\n",
    "\n",
    "$\\bar{X}-\\bar{Y}\\pm Z_{\\frac{\\alpha}{2}}\\cdot\\sqrt{\\frac{\\sigma_1^2}{m}+\\frac{\\sigma_2^2}{n}}$"
   ]
  },
  {
   "cell_type": "code",
   "execution_count": 7,
   "metadata": {},
   "outputs": [
    {
     "name": "stdout",
     "output_type": "stream",
     "text": [
      "0.07100000000000001 +/- 0.07728467033630902\n",
      "interval is  (-0.0062846703363090145, 0.14828467033630904)\n"
     ]
    }
   ],
   "source": [
    "# Code your answer here:\n",
    "sm = (dfInsurance['Citations'].loc[dfInsurance['Sex']==\"M\"].std()/\n",
    "dfInsurance['Citations'].loc[dfInsurance['Sex']==\"M\"].count())\n",
    "sn = (dfInsurance['Citations'].loc[dfInsurance['Sex']==\"F\"].std()/\n",
    "dfInsurance['Citations'].loc[dfInsurance['Sex']==\"F\"].count())\n",
    "root = (sm+sn)**.5\n",
    "x = dfInsurance['Citations'].loc[dfInsurance['Sex']==\"M\"].mean()\n",
    "y = dfInsurance['Citations'].loc[dfInsurance['Sex']==\"F\"].mean()\n",
    "diff = x-y\n",
    "z = stats.norm.ppf(1-.05/2)\n",
    "print(diff,\"+/-\",z*root)\n",
    "print(\"interval is \", (diff-z*root,diff+z*root))"
   ]
  },
  {
   "cell_type": "markdown",
   "metadata": {},
   "source": [
    "### Part F\n",
    "***(1 point)*** Is 0 inside the confidence interval? Describe the meaning of your results.\n"
   ]
  },
  {
   "cell_type": "markdown",
   "metadata": {},
   "source": [
    "Solution here:\n",
    "it is. the interval include negative numbers in the lower limit and positive numbers in the upper limit; hence, 0 is included. That is mostly because the difference between the two means is small."
   ]
  },
  {
   "cell_type": "markdown",
   "metadata": {},
   "source": [
    "### Part G\n",
    "***(4 points)*** Compare the number of miles driven per year by each sex. Start by getting a visual representation of the number of miles driven by each sex. Graph both male and female 'miles driven' distributions in the same frame for comparison.\n"
   ]
  },
  {
   "cell_type": "code",
   "execution_count": 8,
   "metadata": {},
   "outputs": [
    {
     "data": {
      "image/png": "[encoded data removed]",
      "text/plain": [
       "<Figure size 640x480 with 1 Axes>"
      ]
     },
     "metadata": {},
     "output_type": "display_data"
    }
   ],
   "source": [
    "# Code your answer here:\n",
    "ax = plt.gca() \n",
    "dfInsurance.loc[dfInsurance['Sex']==\"M\"].plot(x='Sex',y='miles driven',color = 'blue',ax=ax)\n",
    "dfInsurance.loc[dfInsurance['Sex']==\"F\"].plot(x='Sex',y='miles driven',color ='pink',ax=ax)\n",
    "plt.show()"
   ]
  },
  {
   "cell_type": "markdown",
   "metadata": {},
   "source": [
    "### Part H\n",
    "***(1 point)*** Based on the distributions, who appears to drive more miles in a year? Is there any overlap of histograms? Describe what you have found."
   ]
  },
  {
   "cell_type": "markdown",
   "metadata": {},
   "source": [
    "Solution: \n",
    "There is no overlap; males drive more miles in a year."
   ]
  },
  {
   "cell_type": "markdown",
   "metadata": {},
   "source": [
    "### Part I\n",
    "***(2 points)*** What is the difference in mean miles driven by the two groups (male and female)?"
   ]
  },
  {
   "cell_type": "code",
   "execution_count": 9,
   "metadata": {},
   "outputs": [
    {
     "name": "stdout",
     "output_type": "stream",
     "text": [
      "3291.516906011987\n"
     ]
    }
   ],
   "source": [
    "# Code solution here:\n",
    "print(dfInsurance['miles driven'].loc[dfInsurance['Sex']==\"M\"].mean() -\n",
    "dfInsurance['miles driven'].loc[dfInsurance['Sex']==\"F\"].mean())"
   ]
  },
  {
   "cell_type": "markdown",
   "metadata": {},
   "source": [
    "### Part J\n",
    "***(3 points)*** Estimate the difference in population means (for miles driven) by creating a 95% CI for the difference between the sample means for 'miles driven' by males and females.\n",
    "\n",
    "Recall the equation below from lecture. Perform the proper calculations 'by hand' (i.e. code without a canned function).\n",
    "\n",
    "$\\bar{X}-\\bar{Y}\\pm Z_{\\frac{\\alpha}{2}}\\cdot\\sqrt{\\frac{\\sigma_1^2}{m}+\\frac{\\sigma_2^2}{n}}$\n",
    "\n",
    "Create a 95% CI for the difference in miles driven per year."
   ]
  },
  {
   "cell_type": "code",
   "execution_count": 10,
   "metadata": {},
   "outputs": [
    {
     "name": "stdout",
     "output_type": "stream",
     "text": [
      "3291.516906011987 +/- 2.04802975193546\n",
      "interval is  (3289.4688762600517, 3293.564935763922)\n"
     ]
    }
   ],
   "source": [
    "# Code solution here:\n",
    "sm = (dfInsurance['miles driven'].loc[dfInsurance['Sex']==\"M\"].std()/\n",
    "dfInsurance['miles driven'].loc[dfInsurance['Sex']==\"M\"].count())\n",
    "sn = (dfInsurance['miles driven'].loc[dfInsurance['Sex']==\"F\"].std()/\n",
    "dfInsurance['miles driven'].loc[dfInsurance['Sex']==\"F\"].count())\n",
    "root = (sm+sn)**.5\n",
    "x = dfInsurance['miles driven'].loc[dfInsurance['Sex']==\"M\"].mean()\n",
    "y = dfInsurance['miles driven'].loc[dfInsurance['Sex']==\"F\"].mean()\n",
    "diff = x-y\n",
    "z = stats.norm.ppf(1-.05/2)\n",
    "print(diff,\"+/-\",z*root)\n",
    "print(\"interval is \",(diff-z*root,diff+z*root))"
   ]
  },
  {
   "cell_type": "markdown",
   "metadata": {},
   "source": [
    "### Part K\n",
    "***(1 points)*** Is 0 in the interval? Describe your findings."
   ]
  },
  {
   "cell_type": "markdown",
   "metadata": {},
   "source": [
    "Solution:\n",
    "No, the difference between the two means is big. Hence, the interval does not include 0."
   ]
  },
  {
   "cell_type": "markdown",
   "metadata": {},
   "source": [
    "### Part L\n",
    "***(4 points)*** Create a column called 'CPM'(this acronym stands for citations per 1000 miles), and put in it the number of citations divided by the number of miles driven (multiplied by 1000). The multiplication by 1000 ensures we are looking at citations per 1000 miles. This is done because the numbers are so small.\n",
    "\n",
    "After you create the 'CPM' column look at the tail of the dataframe."
   ]
  },
  {
   "cell_type": "code",
   "execution_count": 11,
   "metadata": {},
   "outputs": [
    {
     "data": {
      "text/html": [
       "<div>\n",
       "<style scoped>\n",
       "    .dataframe tbody tr th:only-of-type {\n",
       "        vertical-align: middle;\n",
       "    }\n",
       "\n",
       "    .dataframe tbody tr th {\n",
       "        vertical-align: top;\n",
       "    }\n",
       "\n",
       "    .dataframe thead th {\n",
       "        text-align: right;\n",
       "    }\n",
       "</style>\n",
       "<table border=\"1\" class=\"dataframe\">\n",
       "  <thead>\n",
       "    <tr style=\"text-align: right;\">\n",
       "      <th></th>\n",
       "      <th>Sex</th>\n",
       "      <th>miles driven</th>\n",
       "      <th>Age</th>\n",
       "      <th>Citations</th>\n",
       "      <th>CPM</th>\n",
       "    </tr>\n",
       "  </thead>\n",
       "  <tbody>\n",
       "    <tr>\n",
       "      <th>1995</th>\n",
       "      <td>M</td>\n",
       "      <td>8433.768080</td>\n",
       "      <td>17</td>\n",
       "      <td>1</td>\n",
       "      <td>0.011857</td>\n",
       "    </tr>\n",
       "    <tr>\n",
       "      <th>1996</th>\n",
       "      <td>M</td>\n",
       "      <td>8047.929523</td>\n",
       "      <td>18</td>\n",
       "      <td>1</td>\n",
       "      <td>0.012426</td>\n",
       "    </tr>\n",
       "    <tr>\n",
       "      <th>1997</th>\n",
       "      <td>M</td>\n",
       "      <td>7285.647012</td>\n",
       "      <td>18</td>\n",
       "      <td>1</td>\n",
       "      <td>0.013726</td>\n",
       "    </tr>\n",
       "    <tr>\n",
       "      <th>1998</th>\n",
       "      <td>M</td>\n",
       "      <td>8579.702457</td>\n",
       "      <td>18</td>\n",
       "      <td>0</td>\n",
       "      <td>0.000000</td>\n",
       "    </tr>\n",
       "    <tr>\n",
       "      <th>1999</th>\n",
       "      <td>M</td>\n",
       "      <td>7868.067827</td>\n",
       "      <td>16</td>\n",
       "      <td>0</td>\n",
       "      <td>0.000000</td>\n",
       "    </tr>\n",
       "  </tbody>\n",
       "</table>\n",
       "</div>"
      ],
      "text/plain": [
       "     Sex  miles driven  Age  Citations       CPM\n",
       "1995   M   8433.768080   17          1  0.011857\n",
       "1996   M   8047.929523   18          1  0.012426\n",
       "1997   M   7285.647012   18          1  0.013726\n",
       "1998   M   8579.702457   18          0  0.000000\n",
       "1999   M   7868.067827   16          0  0.000000"
      ]
     },
     "execution_count": 11,
     "metadata": {},
     "output_type": "execute_result"
    }
   ],
   "source": [
    "# Code your solution here:\n",
    "# for index, item in enumerate(items):\n",
    "cit = [c for c in dfInsurance['Citations']]\n",
    "cpm =[]\n",
    "for i,m in enumerate(dfInsurance['miles driven']):\n",
    "    cpm.append(cit[i]/m*100)\n",
    "dfInsurance.insert(4,'CPM',cpm,True)\n",
    "dfInsurance.tail()\n"
   ]
  },
  {
   "cell_type": "markdown",
   "metadata": {},
   "source": [
    "### Part M\n",
    "***(2 points)*** Look at the difference in means for male CPM and female CPM. Which sex receive more citations per 1000 miles?"
   ]
  },
  {
   "cell_type": "code",
   "execution_count": 12,
   "metadata": {},
   "outputs": [
    {
     "name": "stdout",
     "output_type": "stream",
     "text": [
      " females have more citations per 1000 miles\n"
     ]
    }
   ],
   "source": [
    "# Code solution here:\n",
    "mcpm_mean = dfInsurance['CPM'].loc[dfInsurance[\"Sex\"]==\"M\"].mean()\n",
    "fcpm_mean= dfInsurance['CPM'].loc[dfInsurance['Sex']==\"F\"].mean()\n",
    "print (\"males have more citations per 1000 miles\") if mcpm_mean-fcpm_mean>0 else print(\"\",\n",
    "\"females have more citations per 1000 miles\")"
   ]
  },
  {
   "cell_type": "markdown",
   "metadata": {},
   "source": [
    "### Part N\n",
    "***(1 point)*** You should have discovered that females get more citations per mile than do males. How does this go together with the fact that males get more citations in a year?"
   ]
  },
  {
   "cell_type": "markdown",
   "metadata": {},
   "source": [
    "Solution:\n",
    "Citations per year different than citations per 100 miles since males drive more miles per year. Choosing just 100 miles would make the more miles males have per year than females indifferent. "
   ]
  },
  {
   "cell_type": "markdown",
   "metadata": {},
   "source": [
    "### Part O\n",
    "***(3 points)*** Estimate the difference in population means (for CPM's) by creating a 95% CI for the difference between the sample means for 'CPM' for males and females.\n",
    "\n",
    "Recall the equation below from lecture. Perform the proper calculations 'by hand' (i.e. code without a canned function).\n",
    "\n",
    "$\\bar{X}-\\bar{Y}\\pm Z_{\\frac{\\alpha}{2}}\\cdot\\sqrt{\\frac{\\sigma_1^2}{m}+\\frac{\\sigma_2^2}{n}}$\n",
    "\n",
    "Create a 95% CI for the difference in miles driven per year.\n"
   ]
  },
  {
   "cell_type": "code",
   "execution_count": 13,
   "metadata": {},
   "outputs": [
    {
     "data": {
      "text/plain": [
       "(-0.003248914054212023, -0.0010832224801218477)"
      ]
     },
     "execution_count": 13,
     "metadata": {},
     "output_type": "execute_result"
    }
   ],
   "source": [
    "# Code solution here:\n",
    "\n",
    "z = norm.ppf(1-.05/2)\n",
    "s1 = dfInsurance['CPM'].loc[dfInsurance[\"Sex\"]==\"M\"].std()\n",
    "s2 = dfInsurance['CPM'].loc[dfInsurance['Sex']==\"F\"].std()\n",
    "m =len(dfInsurance['CPM'].loc[dfInsurance['Sex']==\"M\"])\n",
    "n =len(dfInsurance['CPM'].loc[dfInsurance['Sex']==\"F\"])\n",
    "root = ((s1**2)/m + (s2**2)/n)**.5\n",
    "lower = mcpm_mean-fcpm_mean - z*root\n",
    "upper = mcpm_mean-fcpm_mean + z*root\n",
    "(lower,upper)"
   ]
  },
  {
   "cell_type": "markdown",
   "metadata": {},
   "source": [
    "### Part S\n",
    "***(5 points)*** What percent of males drive between 6400 and 8400 miles per year?\n",
    "What percent of females drive that same amount?\n"
   ]
  },
  {
   "cell_type": "code",
   "execution_count": 15,
   "metadata": {},
   "outputs": [
    {
     "name": "stdout",
     "output_type": "stream",
     "text": [
      "42.49542712643046 % of males drive between 6400 and 8400 miles per year\n",
      "1.1412627182770474 % females drive the same amount\n"
     ]
    }
   ],
   "source": [
    "# Code your solution here:\n",
    "\n",
    "mmilesmean = dfInsurance['miles driven'].loc[dfInsurance['Sex']==\"M\"].mean()\n",
    "mmilesstd = dfInsurance['miles driven'].loc[dfInsurance['Sex']==\"M\"].std()\n",
    "fmilesmean = dfInsurance['miles driven'].loc[dfInsurance['Sex']==\"F\"].mean()\n",
    "fmilesstd = dfInsurance['miles driven'].loc[dfInsurance['Sex']==\"F\"].std()\n",
    "mzlow = (6400-mmilesmean)/(mmilesstd)\n",
    "fzlow = (6400-fmilesmean)/(fmilesstd)\n",
    "mzhigh = (8400-mmilesmean)/(mmilesstd)\n",
    "fzhigh = (8400-fmilesmean)/(fmilesstd)\n",
    "pmales = norm.cdf(mzhigh)-norm.cdf(mzlow)\n",
    "pfemales = norm.cdf(fzhigh)-norm.cdf(fzlow)\n",
    "print(pmales*100, \"% of males drive between 6400 and 8400 miles per year\")\n",
    "print(pfemales*100, \"% females drive the same amount\")"
   ]
  },
  {
   "cell_type": "markdown",
   "metadata": {},
   "source": [
    "### Part T\n",
    "***(4 points)*** 95% of females drive less than x miles. What is x?"
   ]
  },
  {
   "cell_type": "code",
   "execution_count": 16,
   "metadata": {},
   "outputs": [
    {
     "name": "stdout",
     "output_type": "stream",
     "text": [
      "x is  6071.695308657169\n"
     ]
    }
   ],
   "source": [
    "# Code your solution here:\n",
    "#z= x-m / std\n",
    "#x = std*z + m\n",
    "z = norm.ppf(.95)\n",
    "\n",
    "x = fmilesstd*z + fmilesmean\n",
    "print(\"x is \",x)"
   ]
  },
  {
   "cell_type": "markdown",
   "metadata": {},
   "source": [
    "# Problem 2\n",
    "***\n",
    "\n",
    "Let $X$ be a normal random variable, $X \\sim N(\\mu, \\sigma^2) = N(5,9)$.\n",
    "\n",
    "Let $Z$ be a $\\color{red}{\\text{standard}}$ normal random variable, $Z \\sim N(\\mu, \\sigma^2) = N(0,1)$.\n"
   ]
  },
  {
   "cell_type": "markdown",
   "metadata": {},
   "source": [
    "### Part A\n",
    "\n",
    "***(2 points)*** Compute $P(X \\leq 8.75)$."
   ]
  },
  {
   "cell_type": "code",
   "execution_count": 17,
   "metadata": {},
   "outputs": [
    {
     "data": {
      "text/plain": [
       "0.8943502263331446"
      ]
     },
     "execution_count": 17,
     "metadata": {},
     "output_type": "execute_result"
    }
   ],
   "source": [
    "# Code your solution here:\n",
    "stats.norm.cdf(8.75,5,3)"
   ]
  },
  {
   "cell_type": "markdown",
   "metadata": {},
   "source": [
    "### Part B\n",
    "\n",
    "***(2 points)*** Compute $P(Z\\leq 1.25)$."
   ]
  },
  {
   "cell_type": "code",
   "execution_count": 18,
   "metadata": {},
   "outputs": [
    {
     "data": {
      "text/plain": [
       "0.8943502263331446"
      ]
     },
     "execution_count": 18,
     "metadata": {},
     "output_type": "execute_result"
    }
   ],
   "source": [
    "# Code your solution here:\n",
    "stats.norm.cdf(1.25,0,1)"
   ]
  },
  {
   "cell_type": "markdown",
   "metadata": {},
   "source": [
    "### Part C\n",
    "\n",
    "***(2 points)*** Explain why the answer to these first two questions are the same."
   ]
  },
  {
   "cell_type": "markdown",
   "metadata": {},
   "source": [
    "Solution:\n",
    "The values of Z is just the normalized values of X, which means the distribution of the probabilites is the same."
   ]
  },
  {
   "cell_type": "code",
   "execution_count": 21,
   "metadata": {},
   "outputs": [
    {
     "name": "stdout",
     "output_type": "stream",
     "text": [
      "0.010000000000000009\n"
     ]
    }
   ],
   "source": [
    "z = stats.norm.ppf(1-.01)\n",
    "print(1-stats.norm.cdf(z))"
   ]
  },
  {
   "cell_type": "code",
   "execution_count": null,
   "metadata": {},
   "outputs": [],
   "source": []
  }
 ],
 "metadata": {
  "kernelspec": {
   "display_name": "Python 3",
   "language": "python",
   "name": "python3"
  },
  "language_info": {
   "codemirror_mode": {
    "name": "ipython",
    "version": 3
   },
   "file_extension": ".py",
   "mimetype": "text/x-python",
   "name": "python",
   "nbconvert_exporter": "python",
   "pygments_lexer": "ipython3",
   "version": "3.8.8"
  }
 },
 "nbformat": 4,
 "nbformat_minor": 2
}
