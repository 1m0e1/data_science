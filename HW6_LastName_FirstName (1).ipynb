{
 "cells": [
  {
   "cell_type": "markdown",
   "metadata": {},
   "source": [
    "# Homework 06: Expected Value and Variance\n",
    "***\n",
    "\n",
    "**Name**: Mohamad Saaty\n",
    "\n",
    "***\n",
    "\n",
    "This assignment is due on Canvas by **6:00PM on Friday October 7**. Your solutions to theoretical questions should be done in Markdown directly below the associated question.  Your solutions to computational questions should include any specified Python code and results as well as written commentary on your conclusions.  Remember that you are encouraged to discuss the problems with your classmates, but **you must write all code and solutions on your own**.\n",
    "\n",
    "**NOTES**: \n",
    "\n",
    "- Any relevant data sets should be available in the Homework 01 assignment write-up on Canvas. To make life easier on the grader if they need to run your code, do not change the relative path names here. Instead, move the files around on your computer.\n",
    "- If you're not familiar with typesetting math directly into Markdown then by all means, do your work on paper first and then typeset it later.  Remember that there is a [reference guide](https://math.meta.stackexchange.com/questions/5020/mathjax-basic-tutorial-and-quick-reference) linked on Canvas on writing math in Markdown. **All** of your written commentary, justifications and mathematical work should be in Markdown.\n",
    "- Because you can technically evaluate notebook cells is a non-linear order, it's a good idea to do $\\color{red}{\\text{Kernel}}$ $\\color{red}\\rightarrow$ $\\color{red}{\\text{Restart & Run All}}$ as a check before submitting your solutions.  That way if we need to run your code you will know that it will work as expected. \n",
    "- It is **bad form** to make your reader interpret numerical output from your code.  If a question asks you to compute some value from the data you should show your code output **AND** $\\color{red}{\\text{write a summary of the results}}$ in Markdown directly below your code. \n",
    "- This probably goes without saying, but... For any question that asks you to calculate something, you **must show all work and justify your answers to receive credit**. Sparse or nonexistent work will receive sparse or nonexistent credit. \n",
    "\n",
    "---"
   ]
  },
  {
   "cell_type": "markdown",
   "metadata": {},
   "source": [
    "Import Pandas, NumPy, and matplotlib.pylab."
   ]
  },
  {
   "cell_type": "code",
   "execution_count": 1,
   "metadata": {},
   "outputs": [],
   "source": [
    "import pandas as pd\n",
    "import numpy as np\n",
    "import matplotlib.pylab as plt\n",
    "%matplotlib inline "
   ]
  },
  {
   "cell_type": "markdown",
   "metadata": {},
   "source": [
    "# Problem 1\n",
    "***\n",
    "Consider a continuous random variable $X$ with a PDF given by:\n",
    "\n",
    "$f(x)=\n",
    "    \\begin{cases}\n",
    "        \\frac{1}{10}(1-\\frac{1}{20}x) & \\text{if } 0\\leq x\\leq20\\\\\n",
    "        0 & \\text{elsewhere} \n",
    "    \\end{cases}$\n",
    "    \n",
    "Furthermore, consider $Y$ to be a random variable with values $Y=3X+5$."
   ]
  },
  {
   "cell_type": "markdown",
   "metadata": {},
   "source": [
    "### Part A\n",
    "\n",
    "***(2 points)*** Show that $f(x)$ is a valid PDF."
   ]
  },
  {
   "cell_type": "markdown",
   "metadata": {},
   "source": [
    "***solution:*** Put your solution to Part A here: $\\newline$\n",
    "For f(x) to be a valid PDF, the integral should equal 1$\\newline\n",
    "\\int_0^{20} \\frac{1}{10}(1-\\frac{1}{20}x) = \\frac{1}{10} \\cdot \\int_0^{20} 1-\\frac{1}{20}x = \\frac{1}{10} [(20 - \\frac{20^2}{40}) - (0-0)] = 1/10 \\times 10 = 1$\n",
    "Hence, it is valid"
   ]
  },
  {
   "cell_type": "markdown",
   "metadata": {},
   "source": [
    "### Part B\n",
    "\n",
    "***(2 points)*** Find $E[X]$."
   ]
  },
  {
   "cell_type": "markdown",
   "metadata": {},
   "source": [
    "***solution:*** Put your solution to Part B here:$\\newline\n",
    "\\int_0^{20} x\\cdot \\frac{1}{10}(1-\\frac{1}{20}x) = \\frac{1}{10}\\cdot \\int_0^{20} (x-\\frac{x^2}{20}) =\\frac{1}{10}\\cdot [(\\frac{20^2}{2} - \\frac{20^3}{60}) - 0] = \\frac{1}{10}\\cdot [200-133.33] = 6.667$\n"
   ]
  },
  {
   "cell_type": "markdown",
   "metadata": {},
   "source": [
    "### Part C\n",
    "\n",
    "***(2 points)*** Find $Var(X)$. "
   ]
  },
  {
   "cell_type": "markdown",
   "metadata": {},
   "source": [
    "***solution:*** Put your solution to part C here: $\\newline\n",
    "Var(X) = E[{X^2}] - {E[X]}^2 = E[{X^2}] - 6.667^2 =E[{X^2}] - 44.47 \\newline\n",
    "E[{X^2}] = \\int_0^{20} x^2\\cdot \\frac{1}{10}(1-\\frac{1}{20}x) = \\frac{1}{10}\\cdot [\\int_0^{20} x^2 -\\frac{x^3}{20}] = \\frac{20^3}{3} - \\frac{20^4}{80} = 2666.667 - 2000 = 666.67 \\newline\n",
    "Var(X) = 666.67 - 44.47 = 622.197$\n"
   ]
  },
  {
   "cell_type": "markdown",
   "metadata": {},
   "source": [
    "### Part D\n",
    "\n",
    "***(2 points)*** Find $E[Y]$."
   ]
  },
  {
   "cell_type": "markdown",
   "metadata": {},
   "source": [
    "***solution:*** Put your solution to part D here:$\\newline\n",
    "E[Y] = 3\\times E[X] + 5 = 3\\times 6.667 +5= 25.001 $\n"
   ]
  },
  {
   "cell_type": "markdown",
   "metadata": {},
   "source": [
    "### Part E\n",
    "\n",
    "***(2 points)*** Find $Var(Y)$."
   ]
  },
  {
   "cell_type": "markdown",
   "metadata": {},
   "source": [
    "***solution:*** Put your solution to part E here:$\\newline\n",
    "Var(Y) = 3^2\\cdot Var(X) = 9(622.197) = 5599.773$\n"
   ]
  },
  {
   "cell_type": "markdown",
   "metadata": {},
   "source": [
    "# Problem 2\n",
    "***\n",
    "\n",
    "![image](wheel.png)\n",
    "\n",
    "Consider the American roulette wheel as pictured above. "
   ]
  },
  {
   "cell_type": "markdown",
   "metadata": {},
   "source": [
    "### Part A\n",
    "\n",
    "Suppose you decide to bet on red23 over and over and over again UNTIL you win, then you'll stop playing.\n",
    "\n",
    "Winning means the ball lands on the red23 slot - and it has an equal chance of landing in any of the slots. \n",
    "\n",
    "So, you might play only once (if you win in one game.) Or, perhaps you'll play twice, or three times, etc. before you win. \n",
    "\n",
    "Let $X$ be the random variable, \"Number of times you play till you win.\"\n",
    "\n",
    "***(2 points)*** How many times do you expect to play before you win?"
   ]
  },
  {
   "cell_type": "markdown",
   "metadata": {},
   "source": [
    "***solution:*** Put your answer to Part A here: $\\newline$\n",
    "It's a geometric distribution so number of trials before success = $1/p = \\frac{1}{1/38}=38$\n"
   ]
  },
  {
   "cell_type": "markdown",
   "metadata": {},
   "source": [
    "### Part B\n",
    "\n",
    "***(3 points)*** What is the probability that you don't win until your 4th attempt?"
   ]
  },
  {
   "cell_type": "markdown",
   "metadata": {},
   "source": [
    "***solution:*** Put your answer to Part B here: $\\newline\n",
    "P(X=k) = (1-p)^{k-1}\\cdot p = (1-\\frac{1}{38})^{4-1} \\cdot \\frac{1}{38} = .923\\times \\frac{1}{38} = .024$\n"
   ]
  },
  {
   "cell_type": "markdown",
   "metadata": {},
   "source": [
    "### Part C\n",
    "\n",
    "Recall from Calculus that a geometric series with ratio $r$ diverges if $|r|>1$, but if $0<|r|<1$ then the series converges:\n",
    "\n",
    "$\\displaystyle{\\sum_{n=0}^{\\infty}ar^n=\\frac{a}{1-r}}$.\n",
    "\n",
    "Therefore, for $0<p<1$, we have $\\displaystyle{\\sum_{k=0}^{\\infty}p(1-p)^k=p\\cdot\\frac{1}{1-(1-p)}=1}.$\n",
    "\n",
    "***(5 points)*** Explain (show) why $\\displaystyle{E[X]=\\sum_{k=1}^{\\infty}kp(1-p)^{k-1}=\\frac{1}{p}}$."
   ]
  },
  {
   "cell_type": "markdown",
   "metadata": {},
   "source": [
    "***solution:*** Put your answer to Part C here: $\\newline\n",
    "\\sum_{k=1}^{\\infty}kp(1-p)^{k-1} = p\\sum_{k=1}^{\\infty}k(1-p)^{k-1} \\newline$\n",
    "Let 1-p = r $\\newline\n",
    "p\\sum_{k=1}^{\\infty}kr^{k-1} \\newline\n",
    "kr^{k-1} = d/dr \\cdot r^k \\newline\n",
    "p\\sum_{k=1}^{\\infty}kr^{k-1} = p\\sum_{k=1}^{\\infty}d/dr \\cdot r^k = p\\cdot d/dr\\sum_{k=1}^{\\infty}r^k = p\\cdot d/dr\\cdot [(\\sum_{k=0}^{\\infty}r^k)-r^0] \\newline = p\\cdot d/dr\\cdot [\\frac{1}{1-r} -1] = p\\cdot d/dr\\cdot \\frac{1-(1-r)}{1-r} =p\\cdot d/dr\\cdot \\frac{r}{1-r} = p\\cdot \\frac{1}{(1-r)^2} = \\frac{p}{1-2r+r^2} = \\frac{p}{1-2(1-p)+(1-p)^2} = \\frac{p}{1-(2-2p)+1-2p+p^2} = \\frac{p}{-1+2p+1-2p+p^2} = \\frac{p}{p^2} = \\frac{1}{p}$\n"
   ]
  },
  {
   "cell_type": "markdown",
   "metadata": {},
   "source": [
    "### Part D\n",
    "\n",
    "***(3 points)*** What is $E[X]$ ?"
   ]
  },
  {
   "cell_type": "markdown",
   "metadata": {},
   "source": [
    "***solution:*** Put your answer to Part D here:$\\newline\n",
    "E[X] = 38$\n"
   ]
  },
  {
   "cell_type": "markdown",
   "metadata": {},
   "source": [
    "### Part E\n",
    "\n",
    "You are interested in knowing how much money you should expect to win $\\textbf{each time you play.}$ Afterall, you have decided to play over and over again till you win.\n",
    "\n",
    "Now, let $X$ be the random variable, \"Amount of money you win.\"\n",
    "\n",
    "You are still betting on 23red, and each bet costs \\$1.\n",
    "\n",
    "If you lose, you lose your dollar.\n",
    "\n",
    "If you win, you get your dollar back $\\textbf{and}$ you get an additional \\$35 for winning.\n",
    "\n",
    "***(3 points)*** What is $E[X]$ ?"
   ]
  },
  {
   "cell_type": "markdown",
   "metadata": {},
   "source": [
    "***solution:*** Put your answer to Part E here:$\\newline\n",
    "E[X] = -1(1-\\frac{1}{38}) + 35(\\frac{1}{38})=-\\frac{37}{38} + \\frac{35}{38} = -\\frac{2}{38} = -\\frac{1}{19} = -.053$\n"
   ]
  },
  {
   "cell_type": "markdown",
   "metadata": {},
   "source": [
    "# Problem 3\n",
    "***\n",
    "\n",
    "***Using the definition*** of expected value and variance,\n",
    "\n",
    "Discrete: $E[X] = \\sum_ia_i\\cdot P(X=a_i)$.\n",
    "\n",
    "Continuous: $E[X] = \\int_{-\\infty}^{\\infty}xf(x)\\phantom{x}dx$\n",
    "\n",
    "$Var(X) = E\\left[(X-E[X])^2\\right] = E[X^2]-(E[X])^2$\n",
    "\n",
    "Find the following:"
   ]
  },
  {
   "cell_type": "markdown",
   "metadata": {},
   "source": [
    "### Part A\n",
    "\n",
    "***(3 points)*** Suppose $X$~$U[\\alpha, \\beta]$, find $E[X]$. $X$ takes on all real values between $\\alpha$ and $\\beta$."
   ]
  },
  {
   "cell_type": "markdown",
   "metadata": {},
   "source": [
    "***solution:*** Put your answer to Part A here:$\\newline\n",
    "E[X] = \\mu = \\frac{\\alpha + \\beta}{2}$\n"
   ]
  },
  {
   "cell_type": "markdown",
   "metadata": {},
   "source": [
    "### Part B\n",
    "\n",
    "***(3 points)*** Suppose $X$~$U[\\alpha, \\beta]$, find $Var[X]$."
   ]
  },
  {
   "cell_type": "markdown",
   "metadata": {},
   "source": [
    "***solution:*** Put your answer to Part B here:$\\newline\n",
    "Var[X] = \\frac{(\\beta - \\alpha)^2}{12}$\n"
   ]
  },
  {
   "cell_type": "markdown",
   "metadata": {},
   "source": [
    "### Part C\n",
    "\n",
    "***(3 points)*** Suppose $X$~$Ber(p)$, find $E[X]$."
   ]
  },
  {
   "cell_type": "markdown",
   "metadata": {},
   "source": [
    "***solution:*** Put your answer to Part C here:$\\newline\n",
    "E[X] = p$\n"
   ]
  },
  {
   "cell_type": "markdown",
   "metadata": {},
   "source": [
    "### Part D\n",
    "\n",
    "***(3 points)*** Suppose $X$~$Ber(p)$, find $Var[X]$."
   ]
  },
  {
   "cell_type": "markdown",
   "metadata": {},
   "source": [
    "***solution:*** Put your answer to Part D here:$\\newline\n",
    "Var[X] = p(1-p)$\n"
   ]
  },
  {
   "cell_type": "markdown",
   "metadata": {},
   "source": [
    "# Problem 4\n",
    "***\n",
    "\n",
    "Consider a card game played with a standard deck of 52 cards.\n",
    "\n",
    "The cards are shuffled, a card is chosen, recorded, and returned to the deck.\n",
    "\n",
    "This is done three times and the record of three choices is observed.\n",
    "\n",
    "The game costs \\$1 to play.\n",
    "\n",
    "If all three cards have the same number, then you get your dollar back plus \\$3.\n",
    "\n",
    "If you only have two cards with the same number, then you get your dollar back plus \\$2.\n",
    "\n",
    "If all three cards are of the same suit, then you get your dollar back plus \\$2.\n",
    "\n",
    "Examples:\n",
    "\n",
    "Ace of spades, Ace of clubs, 5 of diamonds: dollar back plus \\$2.\n",
    "\n",
    "Ace of spaces,2 of spades, 7 of spades: dollar back plus \\$2.\n",
    "\n",
    "5 of diamonds, 8 of diamonds, 8 of diamonds: dollar back plus \\$2, plus \\$2.\n",
    "\n",
    "4 of hearts, 4 of hearts, 4 hearts: dollar back plus \\$3, plus \\$2.\n",
    "\n",
    "6 of diamonds, 6 of hearts, 6 of clubs: dollar back plus \\$3.\n",
    "\n",
    "3 of hearts, 5 of diamonds, Queen of clubs: Lose your dollar.\n",
    "\n",
    "***(7 points)*** Write a function or functions that will create a random draw of three cards as described above. Simulate this game (at least 1000 times) and determine from the simulation the expected winnings per dollar of this game. "
   ]
  },
  {
   "cell_type": "code",
   "execution_count": 55,
   "metadata": {},
   "outputs": [
    {
     "name": "stdout",
     "output_type": "stream",
     "text": [
      "-0.189\n"
     ]
    }
   ],
   "source": [
    "# Put your code for Problem 4 here:\n",
    "import numpy as np\n",
    "suites = {'suite' : np.array([\"diamonds\", \"hearts\", \"clubs\", \"spades\"]),\n",
    "              'number' : np.array([\"Ace\",\"2\",\"3\",\"4\",\"5\",\"6\",\"7\",\"8\",\"9\",\"10\",\"J\",\"Q\",\"K\"])}\n",
    "def play(suites, cost=-1):\n",
    "\n",
    "    s3,n3 = [],[]\n",
    "    for i in range(3):\n",
    "        \n",
    "        s3.append(np.random.choice(suites['suite']))\n",
    "        n3.append(np.random.choice(suites['number']))\n",
    "    x = list(zip(s3,n3))\n",
    "    \n",
    "    profit=0\n",
    "    if(x[0][1]==x[1][1] or x[0][1]==x[2][1] or x[1][1]==x[2][1]):\n",
    "        if(x[0][1]==x[1][1]==x[2][1]):\n",
    "            profit+=3\n",
    "        else:\n",
    "            profit+=2\n",
    "    if(x[0][0]==x[1][0]==x[2][0]):\n",
    "        profit+=2\n",
    "    if(profit==0):\n",
    "        profit+=cost\n",
    "    \n",
    "   \n",
    "    return x,profit\n",
    "    \n",
    "\n",
    "    \n",
    "def sim(suites, cost = -1, num_samples=1000):\n",
    "    \n",
    "    l=[]\n",
    "    for i in range(num_samples):\n",
    "        l.append(play(suites))\n",
    "    s=0\n",
    "    for i in range(0,num_samples):\n",
    "        s+=l[i][1]\n",
    "    \n",
    "    return s/(num_samples)\n",
    "print(sim(suites))"
   ]
  },
  {
   "cell_type": "markdown",
   "metadata": {},
   "source": [
    "### Rubric Check\n",
    "***\n",
    "***(5 points)*** Makesure your answers are thorough but not redundant. Explain your answers, don't just put a number. Make sure you have matched your questions on Gradescope. Make sure your PDF is correct and your LaTeX is correct. etc. etc. BE NEAT."
   ]
  },
  {
   "cell_type": "code",
   "execution_count": null,
   "metadata": {},
   "outputs": [],
   "source": []
  }
 ],
 "metadata": {
  "kernelspec": {
   "display_name": "Python 3",
   "language": "python",
   "name": "python3"
  },
  "language_info": {
   "codemirror_mode": {
    "name": "ipython",
    "version": 3
   },
   "file_extension": ".py",
   "mimetype": "text/x-python",
   "name": "python",
   "nbconvert_exporter": "python",
   "pygments_lexer": "ipython3",
   "version": "3.8.8"
  }
 },
 "nbformat": 4,
 "nbformat_minor": 4
}
